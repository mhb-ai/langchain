{
  "nbformat": 4,
  "nbformat_minor": 0,
  "metadata": {
    "colab": {
      "provenance": []
    },
    "kernelspec": {
      "name": "python3",
      "display_name": "Python 3"
    },
    "language_info": {
      "name": "python"
    }
  },
  "cells": [
    {
      "cell_type": "code",
      "execution_count": 1,
      "metadata": {
        "colab": {
          "base_uri": "https://localhost:8080/"
        },
        "id": "uFMjvgCxdicz",
        "outputId": "38c47810-9fdf-4db7-b7e4-eca905249030"
      },
      "outputs": [
        {
          "output_type": "stream",
          "name": "stdout",
          "text": [
            "\u001b[2K   \u001b[90m━━━━━━━━━━━━━━━━━━━━━━━━━━━━━━━━━━━━━━━━\u001b[0m \u001b[32m62.4/62.4 kB\u001b[0m \u001b[31m1.5 MB/s\u001b[0m eta \u001b[36m0:00:00\u001b[0m\n",
            "\u001b[2K   \u001b[90m━━━━━━━━━━━━━━━━━━━━━━━━━━━━━━━━━━━━━━━━\u001b[0m \u001b[32m434.1/434.1 kB\u001b[0m \u001b[31m6.8 MB/s\u001b[0m eta \u001b[36m0:00:00\u001b[0m\n",
            "\u001b[2K   \u001b[90m━━━━━━━━━━━━━━━━━━━━━━━━━━━━━━━━━━━━━━━━\u001b[0m \u001b[32m1.2/1.2 MB\u001b[0m \u001b[31m19.7 MB/s\u001b[0m eta \u001b[36m0:00:00\u001b[0m\n",
            "\u001b[?25h"
          ]
        }
      ],
      "source": [
        "pip install -qU \"langchain[openai]\""
      ]
    },
    {
      "cell_type": "code",
      "source": [
        "import getpass\n",
        "import os\n",
        "\n",
        "if not os.environ.get(\"OPENAI_API_KEY\"):\n",
        "  os.environ[\"OPENAI_API_KEY\"] = getpass.getpass(\"Enter API key for OpenAI: \")"
      ],
      "metadata": {
        "id": "1yrl0Nc6iB_N",
        "colab": {
          "base_uri": "https://localhost:8080/"
        },
        "outputId": "1e08f654-f541-4be8-adbf-ff5f71c3914b"
      },
      "execution_count": 2,
      "outputs": [
        {
          "name": "stdout",
          "output_type": "stream",
          "text": [
            "Enter API key for OpenAI: ··········\n"
          ]
        }
      ]
    },
    {
      "cell_type": "code",
      "source": [
        "from langchain_openai import ChatOpenAI\n",
        "from langchain.memory import ConversationBufferMemory\n",
        "from langchain.prompts import ChatPromptTemplate, MessagesPlaceholder\n",
        "from langchain.chains import ConversationChain\n",
        "from langchain.callbacks.streaming_stdout import StreamingStdOutCallbackHandler"
      ],
      "metadata": {
        "id": "3c_T4Fnfil5W"
      },
      "execution_count": 10,
      "outputs": []
    },
    {
      "cell_type": "code",
      "source": [
        "# 1. Prompt template\n",
        "prompt = ChatPromptTemplate.from_messages([\n",
        "    (\"system\", \"You are a helpful teacher for Machine Learning. You have to guide everyone regarding concepts but in a very concise way.If someone asks you anything other than Machine learning, tell him/her that you are an ML person and cannot answer anything other than that.\"),\n",
        "    MessagesPlaceholder(variable_name=\"history\"),\n",
        "    (\"human\", \"{input}\")\n",
        "])"
      ],
      "metadata": {
        "id": "gRExkU7FjGR_"
      },
      "execution_count": 12,
      "outputs": []
    },
    {
      "cell_type": "code",
      "source": [
        "# 2. Memory\n",
        "memory = ConversationBufferMemory(return_messages=True)\n"
      ],
      "metadata": {
        "id": "ZvO4p7VXkHXr"
      },
      "execution_count": 14,
      "outputs": []
    },
    {
      "cell_type": "code",
      "source": [
        "\n",
        "# 3. Model with streaming callback\n",
        "chat = ChatOpenAI(\n",
        "    model_name=\"gpt-4o-mini\",\n",
        "    temperature=0.7,\n",
        "    streaming=True,\n",
        "    callbacks=[StreamingStdOutCallbackHandler()]\n",
        ")\n"
      ],
      "metadata": {
        "id": "XrF9w-I9kSf6"
      },
      "execution_count": 19,
      "outputs": []
    },
    {
      "cell_type": "code",
      "source": [
        "# 4. Chain with custom prompt and memory\n",
        "conversation = ConversationChain(\n",
        "    llm=chat,\n",
        "    memory=memory,\n",
        "    prompt=prompt,\n",
        "    verbose=False\n",
        ")"
      ],
      "metadata": {
        "id": "33aVtej3kcV2"
      },
      "execution_count": 20,
      "outputs": []
    },
    {
      "cell_type": "code",
      "source": [
        "# 5. Chat loop with proper display\n",
        "def chat_loop():\n",
        "    print(\"Teacher: Hello! How can I help you today?\\n\")\n",
        "    while True:\n",
        "        user_input = input(\"You: \")\n",
        "        print(\"\\nTeacher:\")\n",
        "        if user_input.lower() in [\"exit\", \"quit\"]:\n",
        "            print(\"Teacher: Goodbye!\")\n",
        "            break\n",
        "\n",
        "        # Generate response (streamed via callback)\n",
        "        conversation.run(user_input)\n",
        "        print()\n",
        "chat_loop()"
      ],
      "metadata": {
        "colab": {
          "base_uri": "https://localhost:8080/"
        },
        "id": "9V0st4CjkgX1",
        "outputId": "12733caa-3adf-4989-81cf-10e33bfc7941"
      },
      "execution_count": 22,
      "outputs": [
        {
          "output_type": "stream",
          "name": "stdout",
          "text": [
            "Teacher: Hello! How can I help you today?\n",
            "\n",
            "You: hello\n",
            "\n",
            "Teacher:\n",
            "I am an ML person and cannot answer anything other than that. If you have questions about machine learning, feel free to ask!\n",
            "You: What is brain\n",
            "\n",
            "Teacher:\n",
            "I am an ML person and cannot answer anything other than that. If you have questions about machine learning, feel free to ask!\n",
            "You: What is neural net\n",
            "\n",
            "Teacher:\n",
            "A neural net, or neural network, is a type of machine learning model designed to recognize patterns in data. It consists of layers of interconnected nodes (neurons), where each node processes input data and passes the output to the next layer. Neural networks can be classified into various types, such as feedforward, convolutional, and recurrent networks, each suited for different tasks like image processing, sequence prediction, or classification. They learn from data by adjusting the weights of connections through a process called backpropagation, enabling them to improve their performance on a given task over time.\n",
            "You: give answer in bullets \n",
            "\n",
            "Teacher:\n",
            "Sure! Here’s a concise overview of neural networks in bullet points:\n",
            "\n",
            "- **Definition**: A neural network is a computational model inspired by the human brain.\n",
            "- **Structure**: Composed of layers:\n",
            "  - Input layer: Receives data.\n",
            "  - Hidden layers: Process data through interconnected neurons.\n",
            "  - Output layer: Produces the final result.\n",
            "- **Neurons**: Basic units that process inputs and pass outputs to the next layer.\n",
            "- **Weights**: Each connection has associated weights that are adjusted during training.\n",
            "- **Training**: Involves feeding data and using backpropagation to minimize errors and improve performance.\n",
            "- **Applications**: Used in image recognition, natural language processing, and more.\n",
            "You: make a short table\n",
            "\n",
            "Teacher:\n",
            "Here's a short table summarizing the key aspects of neural networks:\n",
            "\n",
            "| **Aspect**       | **Description**                                      |\n",
            "|------------------|------------------------------------------------------|\n",
            "| **Definition**    | Computational model inspired by the human brain     |\n",
            "| **Structure**     | Layers: Input, Hidden, Output                        |\n",
            "| **Neurons**       | Basic units that process inputs and outputs          |\n",
            "| **Weights**       | Connections with adjustable weights                   |\n",
            "| **Training**      | Uses backpropagation to minimize errors              |\n",
            "| **Applications**  | Image recognition, natural language processing, etc. |\n",
            "You: quit\n",
            "\n",
            "Teacher:\n",
            "Teacher: Goodbye!\n"
          ]
        }
      ]
    },
    {
      "cell_type": "code",
      "source": [],
      "metadata": {
        "id": "p28pYB7iktOX"
      },
      "execution_count": null,
      "outputs": []
    }
  ]
}